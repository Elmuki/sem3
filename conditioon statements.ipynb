{
 "cells": [
  {
   "cell_type": "code",
   "execution_count": 1,
   "id": "d09bf23c",
   "metadata": {},
   "outputs": [
    {
     "name": "stdout",
     "output_type": "stream",
     "text": [
      "fail\n"
     ]
    }
   ],
   "source": [
    "a=5\n",
    "if a==20:\n",
    "    print(\"pass\")\n",
    "else:\n",
    "    print(\"fail\")"
   ]
  },
  {
   "cell_type": "code",
   "execution_count": 12,
   "id": "2ca09677",
   "metadata": {},
   "outputs": [
    {
     "name": "stdout",
     "output_type": "stream",
     "text": [
      "enter the age :19\n",
      "eligible for voting\n",
      "enter your name :elmuki\n",
      "enter your place :thanjavur\n"
     ]
    }
   ],
   "source": [
    "age=(int(input(\"enter the age :\")))\n",
    "if age>=18:\n",
    "    print(\"eligible for voting\")\n",
    "    name=input(\"enter your name :\")\n",
    "    place=input (\"enter your place :\")\n",
    "else:\n",
    "    print(\"not eligible\")\n",
    "    "
   ]
  },
  {
   "cell_type": "code",
   "execution_count": 20,
   "id": "91fbbc6c",
   "metadata": {},
   "outputs": [
    {
     "name": "stdout",
     "output_type": "stream",
     "text": [
      "enter the day:5\n",
      "fine\n"
     ]
    }
   ],
   "source": [
    "fine=1000\n",
    "days=int(input(\"enter the day:\"))\n",
    "if days<100:\n",
    "    print(\"fine\")\n",
    "elif days>=100:\n",
    "    \n",
    "    print(\" fine\")\n",
    "else:\n",
    "    print(\"no fine\")\n",
    "    \n",
    "    "
   ]
  },
  {
   "cell_type": "code",
   "execution_count": null,
   "id": "3c11d81e",
   "metadata": {},
   "outputs": [],
   "source": []
  }
 ],
 "metadata": {
  "kernelspec": {
   "display_name": "Python 3 (ipykernel)",
   "language": "python",
   "name": "python3"
  },
  "language_info": {
   "codemirror_mode": {
    "name": "ipython",
    "version": 3
   },
   "file_extension": ".py",
   "mimetype": "text/x-python",
   "name": "python",
   "nbconvert_exporter": "python",
   "pygments_lexer": "ipython3",
   "version": "3.9.17"
  }
 },
 "nbformat": 4,
 "nbformat_minor": 5
}
