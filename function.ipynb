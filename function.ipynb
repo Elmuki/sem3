{
 "cells": [
  {
   "cell_type": "markdown",
   "id": "5571e189",
   "metadata": {},
   "source": [
    "# function"
   ]
  },
  {
   "cell_type": "markdown",
   "id": "96df215c",
   "metadata": {},
   "source": [
    "## syntax"
   ]
  },
  {
   "cell_type": "code",
   "execution_count": null,
   "id": "19635d6b",
   "metadata": {},
   "outputs": [],
   "source": [
    "def<function_name>(parametres):\n",
    "    statement\n",
    "    statement(s)"
   ]
  },
  {
   "cell_type": "markdown",
   "id": "ce4ac8a3",
   "metadata": {},
   "source": [
    "# task"
   ]
  },
  {
   "cell_type": "code",
   "execution_count": 10,
   "id": "8c40ba0a",
   "metadata": {},
   "outputs": [
    {
     "name": "stdout",
     "output_type": "stream",
     "text": [
      "enter the age:19\n",
      "eligible for voting\n"
     ]
    }
   ],
   "source": [
    "def eligiblity(age):\n",
    "    if age>=18:\n",
    "        print(\"eligible for voting\")\n",
    "    else:\n",
    "        print(\"eligible for voting\")\n",
    "age=int(input(\"enter the age:\"))\n",
    "eligiblity(age)\n"
   ]
  },
  {
   "cell_type": "code",
   "execution_count": null,
   "id": "7ce85b9a",
   "metadata": {},
   "outputs": [],
   "source": []
  },
  {
   "cell_type": "code",
   "execution_count": null,
   "id": "2ff0c359",
   "metadata": {},
   "outputs": [],
   "source": []
  }
 ],
 "metadata": {
  "kernelspec": {
   "display_name": "Python 3 (ipykernel)",
   "language": "python",
   "name": "python3"
  },
  "language_info": {
   "codemirror_mode": {
    "name": "ipython",
    "version": 3
   },
   "file_extension": ".py",
   "mimetype": "text/x-python",
   "name": "python",
   "nbconvert_exporter": "python",
   "pygments_lexer": "ipython3",
   "version": "3.9.17"
  }
 },
 "nbformat": 4,
 "nbformat_minor": 5
}
