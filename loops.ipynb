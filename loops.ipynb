{
 "cells": [
  {
   "cell_type": "markdown",
   "id": "904a3da8",
   "metadata": {},
   "source": [
    "# for loop\n",
    "\n",
    "for<variable> in <sequence>\n",
    "    statement"
   ]
  },
  {
   "cell_type": "code",
   "execution_count": 10,
   "id": "3ebb53f9",
   "metadata": {},
   "outputs": [],
   "source": [
    "list=[1,2,3,4,5,6,7,8,9]"
   ]
  },
  {
   "cell_type": "code",
   "execution_count": 12,
   "id": "c94d8e8b",
   "metadata": {
    "scrolled": true
   },
   "outputs": [
    {
     "name": "stdout",
     "output_type": "stream",
     "text": [
      "the step is \n",
      " 1\n",
      "the step is \n",
      " 2\n",
      "the step is \n",
      " 3\n",
      "the step is \n",
      " 4\n",
      "the step is \n",
      " 5\n",
      "the step is \n",
      " 6\n",
      "the step is \n",
      " 7\n",
      "the step is \n",
      " 8\n",
      "the step is \n",
      " 9\n"
     ]
    }
   ],
   "source": [
    "for step in list:\n",
    "    print(f\"the step is \\n {step}\")"
   ]
  },
  {
   "cell_type": "markdown",
   "id": "ce43bf7e",
   "metadata": {},
   "source": [
    "# task"
   ]
  },
  {
   "cell_type": "code",
   "execution_count": 30,
   "id": "8418a05e",
   "metadata": {},
   "outputs": [
    {
     "name": "stdout",
     "output_type": "stream",
     "text": [
      "enter the value:5\n",
      "enter the product: kitkat\n",
      "enter the product: milk\n",
      "enter the product: coco powder\n",
      "enter the product: dairymilk\n",
      "enter the product: kinder joy\n"
     ]
    }
   ],
   "source": [
    "product=[]\n",
    "total_items=int(input(\"enter the value:\"))\n",
    "for item in range(0,total_items):\n",
    "    product.append(input(\"enter the product: \"))"
   ]
  },
  {
   "cell_type": "code",
   "execution_count": 31,
   "id": "bfc12619",
   "metadata": {},
   "outputs": [
    {
     "data": {
      "text/plain": [
       "['kitkat', 'milk', 'coco powder', 'dairymilk', 'kinder joy']"
      ]
     },
     "execution_count": 31,
     "metadata": {},
     "output_type": "execute_result"
    }
   ],
   "source": [
    "product"
   ]
  },
  {
   "cell_type": "code",
   "execution_count": 45,
   "id": "ca4e6b7d",
   "metadata": {
    "scrolled": true
   },
   "outputs": [
    {
     "name": "stdout",
     "output_type": "stream",
     "text": [
      "enter the items:2\n",
      "enter the price:20\n",
      "enter the product name:kitkat\n",
      "enter the price:120\n",
      "enter the product name:milkybar\n",
      "total price140\n"
     ]
    }
   ],
   "source": [
    "sum=0\n",
    "a=int(input(\"enter the items:\"))\n",
    "for apl in range(0,a):\n",
    "    lv=int(input(\"enter the price:\"))\n",
    "    ab=input(\"enter the product name:\")\n",
    "    sum+=lv\n",
    "print(f\"total price{sum}\")"
   ]
  },
  {
   "cell_type": "markdown",
   "id": "068efcc8",
   "metadata": {},
   "source": [
    "# task"
   ]
  },
  {
   "cell_type": "code",
   "execution_count": 12,
   "id": "c5d2d17c",
   "metadata": {
    "scrolled": false
   },
   "outputs": [
    {
     "name": "stdout",
     "output_type": "stream",
     "text": [
      "enter the value:5\n",
      "0\n",
      "1\n",
      "1\n",
      "2\n",
      "3\n"
     ]
    }
   ],
   "source": [
    "n=int(input(\"enter the value:\"))\n",
    "n1=0\n",
    "n2=1\n",
    "n3=0\n",
    "count=1\n",
    "while count<=n:\n",
    "    print(n3)\n",
    "    count+=1\n",
    "    n1=n2\n",
    "    n2=n3\n",
    "    n3=n1+n2\n",
    "    ans=n1+n2\n",
    "    \n",
    "    \n",
    "            "
   ]
  },
  {
   "cell_type": "code",
   "execution_count": null,
   "id": "e1d3e873",
   "metadata": {},
   "outputs": [],
   "source": []
  },
  {
   "cell_type": "code",
   "execution_count": null,
   "id": "5a2c1c57",
   "metadata": {},
   "outputs": [],
   "source": []
  },
  {
   "cell_type": "code",
   "execution_count": null,
   "id": "47236271",
   "metadata": {},
   "outputs": [],
   "source": []
  }
 ],
 "metadata": {
  "kernelspec": {
   "display_name": "Python 3 (ipykernel)",
   "language": "python",
   "name": "python3"
  },
  "language_info": {
   "codemirror_mode": {
    "name": "ipython",
    "version": 3
   },
   "file_extension": ".py",
   "mimetype": "text/x-python",
   "name": "python",
   "nbconvert_exporter": "python",
   "pygments_lexer": "ipython3",
   "version": "3.9.17"
  }
 },
 "nbformat": 4,
 "nbformat_minor": 5
}
