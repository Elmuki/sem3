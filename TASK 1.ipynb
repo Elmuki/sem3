{
 "cells": [
  {
   "cell_type": "code",
   "execution_count": 2,
   "id": "0e92551c",
   "metadata": {},
   "outputs": [],
   "source": [
    "graph={'newbustand':['bustop'],'bustop':['newbustand','meenatchi hospital'],'meenatchi hospital':['company','bustop'],\n",
    "       'company':['collector office','meenatchi hospital'],'collector office':['RTO office','company'],'RTO office':['petrol bunk','collector office'],\n",
    "       'petrol bunk':['pmist','RTO office'],'pmist':['petrol bunk'] }\n"
   ]
  },
  {
   "cell_type": "code",
   "execution_count": 19,
   "id": "3c86b87a",
   "metadata": {},
   "outputs": [],
   "source": [
    "from collections import deque\n",
    "def bfs(graph,start,goal):\n",
    "    visited=[]\n",
    "    queue=deque([start])\n",
    "    while queue:\n",
    "        node=queue.popleft()\n",
    "        if node not in visited:\n",
    "            visited.append(node)\n",
    "            print(\"i have visited\",node)\n",
    "            neighbournode=graph[node]\n",
    "            if node==goal:\n",
    "                print(\" i have reached the goal,the path i tyraveeled is\",visited)\n",
    "                neighbournode=graph[node]\n",
    "            if node==goal:\n",
    "                print(\" i have reached the goal,the path i travaled is\",visited)\n",
    "            for neighbours in neighbournode:\n",
    "                queue.append(neighbours)\n",
    "             "
   ]
  },
  {
   "cell_type": "code",
   "execution_count": 20,
   "id": "997e1c8f",
   "metadata": {},
   "outputs": [
    {
     "name": "stdout",
     "output_type": "stream",
     "text": [
      "i have visited newbustand\n",
      "i have visited bustop\n",
      "i have visited meenatchi hospital\n",
      "i have visited company\n",
      "i have visited collector office\n",
      "i have visited RTO office\n",
      "i have visited petrol bunk\n",
      "i have visited pmist\n",
      " i have reached the goal,the path i travaled is ['newbustand', 'bustop', 'meenatchi hospital', 'company', 'collector office', 'RTO office', 'petrol bunk', 'pmist']\n"
     ]
    }
   ],
   "source": [
    "bfs(graph,'newbustand','pmist')"
   ]
  },
  {
   "cell_type": "code",
   "execution_count": null,
   "id": "8565b2dd",
   "metadata": {},
   "outputs": [],
   "source": []
  },
  {
   "cell_type": "code",
   "execution_count": null,
   "id": "4eaec456",
   "metadata": {},
   "outputs": [],
   "source": []
  }
 ],
 "metadata": {
  "kernelspec": {
   "display_name": "Python 3 (ipykernel)",
   "language": "python",
   "name": "python3"
  },
  "language_info": {
   "codemirror_mode": {
    "name": "ipython",
    "version": 3
   },
   "file_extension": ".py",
   "mimetype": "text/x-python",
   "name": "python",
   "nbconvert_exporter": "python",
   "pygments_lexer": "ipython3",
   "version": "3.11.5"
  }
 },
 "nbformat": 4,
 "nbformat_minor": 5
}
