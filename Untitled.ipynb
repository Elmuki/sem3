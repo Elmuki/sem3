{
 "cells": [
  {
   "cell_type": "code",
   "execution_count": 9,
   "id": "8ba167b0",
   "metadata": {},
   "outputs": [
    {
     "name": "stdout",
     "output_type": "stream",
     "text": [
      "Collecting numpy\n",
      "  Obtaining dependency information for numpy from https://files.pythonhosted.org/packages/df/18/181fb40f03090c6fbd061bb8b1f4c32453f7c602b0dc7c08b307baca7cd7/numpy-1.25.2-cp39-cp39-win_amd64.whl.metadata\n",
      "  Downloading numpy-1.25.2-cp39-cp39-win_amd64.whl.metadata (5.7 kB)\n",
      "Note: you may need to restart the kernel to use updated packages.\n"
     ]
    },
    {
     "name": "stderr",
     "output_type": "stream",
     "text": [
      "ERROR: Could not find a version that satisfies the requirement as (from versions: none)\n",
      "ERROR: No matching distribution found for as\n"
     ]
    }
   ],
   "source": [
    "pip install numpy "
   ]
  },
  {
   "cell_type": "code",
   "execution_count": 10,
   "id": "60439468",
   "metadata": {},
   "outputs": [
    {
     "ename": "ModuleNotFoundError",
     "evalue": "No module named 'numpy'",
     "output_type": "error",
     "traceback": [
      "\u001b[1;31m---------------------------------------------------------------------------\u001b[0m",
      "\u001b[1;31mModuleNotFoundError\u001b[0m                       Traceback (most recent call last)",
      "Cell \u001b[1;32mIn[10], line 1\u001b[0m\n\u001b[1;32m----> 1\u001b[0m \u001b[38;5;28;01mimport\u001b[39;00m \u001b[38;5;21;01mnumpy\u001b[39;00m\n",
      "\u001b[1;31mModuleNotFoundError\u001b[0m: No module named 'numpy'"
     ]
    }
   ],
   "source": [
    "import numpy"
   ]
  },
  {
   "cell_type": "code",
   "execution_count": 2,
   "id": "cb59c366",
   "metadata": {},
   "outputs": [],
   "source": [
    "a=1\n",
    "b=3"
   ]
  },
  {
   "cell_type": "code",
   "execution_count": 4,
   "id": "654a46e9",
   "metadata": {},
   "outputs": [
    {
     "data": {
      "text/plain": [
       "4"
      ]
     },
     "execution_count": 4,
     "metadata": {},
     "output_type": "execute_result"
    }
   ],
   "source": [
    "c=a+b\n",
    "c\n"
   ]
  },
  {
   "cell_type": "code",
   "execution_count": 12,
   "id": "e3d146b0",
   "metadata": {},
   "outputs": [],
   "source": [
    "z=2.5\n",
    "b=3"
   ]
  },
  {
   "cell_type": "code",
   "execution_count": 13,
   "id": "edd0048d",
   "metadata": {},
   "outputs": [
    {
     "data": {
      "text/plain": [
       "float"
      ]
     },
     "execution_count": 13,
     "metadata": {},
     "output_type": "execute_result"
    }
   ],
   "source": [
    "type(z)\n"
   ]
  },
  {
   "cell_type": "code",
   "execution_count": 26,
   "id": "9d30e400",
   "metadata": {},
   "outputs": [],
   "source": [
    "l=[1,2,3,]\n",
    "f=(1,2,3)\n"
   ]
  },
  {
   "cell_type": "code",
   "execution_count": 27,
   "id": "64c8e718",
   "metadata": {},
   "outputs": [
    {
     "data": {
      "text/plain": [
       "tuple"
      ]
     },
     "execution_count": 27,
     "metadata": {},
     "output_type": "execute_result"
    }
   ],
   "source": [
    "type(f)\n"
   ]
  },
  {
   "cell_type": "code",
   "execution_count": 34,
   "id": "bc460780",
   "metadata": {},
   "outputs": [
    {
     "data": {
      "text/plain": [
       "(2, 3, 4, 5, 6, 7, 8, 9)"
      ]
     },
     "execution_count": 34,
     "metadata": {},
     "output_type": "execute_result"
    }
   ],
   "source": [
    "tuple(range(2,10))\n"
   ]
  },
  {
   "cell_type": "code",
   "execution_count": 30,
   "id": "46dbff8b",
   "metadata": {},
   "outputs": [
    {
     "ename": "IndentationError",
     "evalue": "expected an indented block (2577587301.py, line 2)",
     "output_type": "error",
     "traceback": [
      "\u001b[1;36m  Cell \u001b[1;32mIn[30], line 2\u001b[1;36m\u001b[0m\n\u001b[1;33m    print(i)\u001b[0m\n\u001b[1;37m    ^\u001b[0m\n\u001b[1;31mIndentationError\u001b[0m\u001b[1;31m:\u001b[0m expected an indented block\n"
     ]
    }
   ],
   "source": []
  },
  {
   "cell_type": "code",
   "execution_count": 5,
   "id": "18f93ced",
   "metadata": {},
   "outputs": [
    {
     "data": {
      "text/plain": [
       "dict"
      ]
     },
     "execution_count": 5,
     "metadata": {},
     "output_type": "execute_result"
    }
   ],
   "source": [
    "animals={1:'dog',2:'elephant'}\n",
    "type(animals)"
   ]
  },
  {
   "cell_type": "code",
   "execution_count": 7,
   "id": "0285ddd2",
   "metadata": {},
   "outputs": [
    {
     "data": {
      "text/plain": [
       "dict_values(['dog', 'elephant'])"
      ]
     },
     "execution_count": 7,
     "metadata": {},
     "output_type": "execute_result"
    }
   ],
   "source": [
    "animals.values()"
   ]
  },
  {
   "cell_type": "code",
   "execution_count": 8,
   "id": "e3a6d846",
   "metadata": {},
   "outputs": [
    {
     "data": {
      "text/plain": [
       "dict_keys([1, 2])"
      ]
     },
     "execution_count": 8,
     "metadata": {},
     "output_type": "execute_result"
    }
   ],
   "source": [
    "animals.keys()"
   ]
  },
  {
   "cell_type": "code",
   "execution_count": 10,
   "id": "bfc09842",
   "metadata": {},
   "outputs": [
    {
     "data": {
      "text/plain": [
       "'elephant'"
      ]
     },
     "execution_count": 10,
     "metadata": {},
     "output_type": "execute_result"
    }
   ],
   "source": [
    "animals[2]"
   ]
  },
  {
   "cell_type": "code",
   "execution_count": 13,
   "id": "bcbb17e9",
   "metadata": {},
   "outputs": [
    {
     "data": {
      "text/plain": [
       "{1: 'tiger', 2: 'elephant'}"
      ]
     },
     "execution_count": 13,
     "metadata": {},
     "output_type": "execute_result"
    }
   ],
   "source": [
    "animals[1]=\"tiger\"\n",
    "animals"
   ]
  },
  {
   "cell_type": "code",
   "execution_count": 14,
   "id": "7c1bf1bc",
   "metadata": {},
   "outputs": [
    {
     "data": {
      "text/plain": [
       "{'name': 'dog', 'gender': 'male'}"
      ]
     },
     "execution_count": 14,
     "metadata": {},
     "output_type": "execute_result"
    }
   ],
   "source": [
    "detail={\"name\":\"dog\",\"gender\":\"male\"}\n",
    "detail"
   ]
  },
  {
   "cell_type": "code",
   "execution_count": 15,
   "id": "ad774b2e",
   "metadata": {},
   "outputs": [
    {
     "data": {
      "text/plain": [
       "'male'"
      ]
     },
     "execution_count": 15,
     "metadata": {},
     "output_type": "execute_result"
    }
   ],
   "source": [
    "detail[\"gender\"]"
   ]
  },
  {
   "cell_type": "code",
   "execution_count": 17,
   "id": "b290efa4",
   "metadata": {},
   "outputs": [
    {
     "data": {
      "text/plain": [
       "2"
      ]
     },
     "execution_count": 17,
     "metadata": {},
     "output_type": "execute_result"
    }
   ],
   "source": [
    "len(detail)"
   ]
  },
  {
   "cell_type": "code",
   "execution_count": 18,
   "id": "95775ca6",
   "metadata": {},
   "outputs": [
    {
     "data": {
      "text/plain": [
       "'male'"
      ]
     },
     "execution_count": 18,
     "metadata": {},
     "output_type": "execute_result"
    }
   ],
   "source": [
    "detail.pop(\"gender\")"
   ]
  },
  {
   "cell_type": "code",
   "execution_count": 19,
   "id": "e09b4355",
   "metadata": {},
   "outputs": [
    {
     "data": {
      "text/plain": [
       "{'name': 'dog'}"
      ]
     },
     "execution_count": 19,
     "metadata": {},
     "output_type": "execute_result"
    }
   ],
   "source": [
    "detail"
   ]
  },
  {
   "cell_type": "code",
   "execution_count": 21,
   "id": "981df941",
   "metadata": {},
   "outputs": [
    {
     "data": {
      "text/plain": [
       "set"
      ]
     },
     "execution_count": 21,
     "metadata": {},
     "output_type": "execute_result"
    }
   ],
   "source": [
    "names={\"elmuki\",\"afreen\",\"durgi\"}\n",
    "type(names)"
   ]
  },
  {
   "cell_type": "code",
   "execution_count": 22,
   "id": "b8d50e6b",
   "metadata": {},
   "outputs": [
    {
     "data": {
      "text/plain": [
       "{'afreen', 'durgi', 'muki'}"
      ]
     },
     "execution_count": 22,
     "metadata": {},
     "output_type": "execute_result"
    }
   ],
   "source": [
    "names"
   ]
  },
  {
   "cell_type": "code",
   "execution_count": 23,
   "id": "6fc78904",
   "metadata": {},
   "outputs": [
    {
     "data": {
      "text/plain": [
       "3"
      ]
     },
     "execution_count": 23,
     "metadata": {},
     "output_type": "execute_result"
    }
   ],
   "source": [
    "len(names)"
   ]
  },
  {
   "cell_type": "code",
   "execution_count": 25,
   "id": "2b9421ab",
   "metadata": {},
   "outputs": [
    {
     "data": {
      "text/plain": [
       "frozenset"
      ]
     },
     "execution_count": 25,
     "metadata": {},
     "output_type": "execute_result"
    }
   ],
   "source": [
    "detail=frozenset({\"muki\",\"nive\",\"afreen\"})\n",
    "type(detail)"
   ]
  },
  {
   "cell_type": "code",
   "execution_count": 26,
   "id": "e8bebda5",
   "metadata": {},
   "outputs": [
    {
     "data": {
      "text/plain": [
       "True"
      ]
     },
     "execution_count": 26,
     "metadata": {},
     "output_type": "execute_result"
    }
   ],
   "source": [
    "a=10\n",
    "b=5\n",
    "a>b"
   ]
  },
  {
   "cell_type": "code",
   "execution_count": null,
   "id": "3260614b",
   "metadata": {},
   "outputs": [],
   "source": []
  }
 ],
 "metadata": {
  "kernelspec": {
   "display_name": "Python 3 (ipykernel)",
   "language": "python",
   "name": "python3"
  },
  "language_info": {
   "codemirror_mode": {
    "name": "ipython",
    "version": 3
   },
   "file_extension": ".py",
   "mimetype": "text/x-python",
   "name": "python",
   "nbconvert_exporter": "python",
   "pygments_lexer": "ipython3",
   "version": "3.9.17"
  }
 },
 "nbformat": 4,
 "nbformat_minor": 5
}
