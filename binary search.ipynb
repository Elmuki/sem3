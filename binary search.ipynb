{
 "cells": [
  {
   "cell_type": "code",
   "execution_count": 4,
   "id": "3271daa7",
   "metadata": {},
   "outputs": [
    {
     "name": "stdout",
     "output_type": "stream",
     "text": [
      "enter the element to be searched20\n"
     ]
    }
   ],
   "source": [
    "data=[24,30,45,56,78]\n",
    "elem=int(input(\"enter the element to be searched\"))"
   ]
  },
  {
   "cell_type": "code",
   "execution_count": 5,
   "id": "8a0c74d4",
   "metadata": {},
   "outputs": [
    {
     "name": "stdout",
     "output_type": "stream",
     "text": [
      "the searching element 20 is present at index value in dataset\n"
     ]
    }
   ],
   "source": [
    "def binary_search(data,elem):\n",
    "    low=0\n",
    "    high=len(data) -1\n",
    "    while low<=high:\n",
    "        middle=(low+high)//2\n",
    "        if data[middle] ==elem:\n",
    "            print(f\"the searching element {elem}is present at index value{middle}in dataset\")\n",
    "            break\n",
    "        elif data[middle]>elem:\n",
    "             high=middle -1\n",
    "        else:\n",
    "            low-middle +1\n",
    "        if data[middle]!=elem:\n",
    "            print(f\"the searching element {elem} is present at index value in dataset\")\n",
    "            return\n",
    "binary_search(data,elem)            "
   ]
  },
  {
   "cell_type": "code",
   "execution_count": null,
   "id": "9d1623d9",
   "metadata": {},
   "outputs": [],
   "source": []
  },
  {
   "cell_type": "code",
   "execution_count": null,
   "id": "05ca221f",
   "metadata": {},
   "outputs": [],
   "source": []
  },
  {
   "cell_type": "code",
   "execution_count": null,
   "id": "8c4ebfc6",
   "metadata": {},
   "outputs": [],
   "source": []
  }
 ],
 "metadata": {
  "kernelspec": {
   "display_name": "Python 3 (ipykernel)",
   "language": "python",
   "name": "python3"
  },
  "language_info": {
   "codemirror_mode": {
    "name": "ipython",
    "version": 3
   },
   "file_extension": ".py",
   "mimetype": "text/x-python",
   "name": "python",
   "nbconvert_exporter": "python",
   "pygments_lexer": "ipython3",
   "version": "3.9.17"
  }
 },
 "nbformat": 4,
 "nbformat_minor": 5
}
