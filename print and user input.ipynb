{
 "cells": [
  {
   "cell_type": "code",
   "execution_count": 4,
   "id": "edef1a2d",
   "metadata": {},
   "outputs": [],
   "source": [
    "a='elmuki'"
   ]
  },
  {
   "cell_type": "code",
   "execution_count": 5,
   "id": "2428482d",
   "metadata": {},
   "outputs": [
    {
     "name": "stdout",
     "output_type": "stream",
     "text": [
      "my name is elmuki\n"
     ]
    }
   ],
   "source": [
    "print(\"my name is {}\".format(a))"
   ]
  },
  {
   "cell_type": "code",
   "execution_count": 12,
   "id": "378d71d0",
   "metadata": {},
   "outputs": [
    {
     "name": "stdout",
     "output_type": "stream",
     "text": [
      "my name is elmuki, iam in thanjavur\n"
     ]
    }
   ],
   "source": [
    "print(\"my name is {name}, iam in {place}\".format(name='elmuki',place='thanjavur'))"
   ]
  },
  {
   "cell_type": "code",
   "execution_count": 18,
   "id": "d46f010c",
   "metadata": {},
   "outputs": [
    {
     "name": "stdout",
     "output_type": "stream",
     "text": [
      "i studied in kalaimagal, and pmist\n"
     ]
    }
   ],
   "source": [
    "print(\"i studied in {school}, and {college}\".format(school=\"kalaimagal\",college=\"pmist\"))"
   ]
  },
  {
   "cell_type": "code",
   "execution_count": 21,
   "id": "948b4729",
   "metadata": {},
   "outputs": [
    {
     "name": "stdout",
     "output_type": "stream",
     "text": [
      "i studied at kalaimagal and pmist\n"
     ]
    }
   ],
   "source": [
    "print(\"i studied at {} and {}\".format(\"kalaimagal\",\"pmist\"))"
   ]
  },
  {
   "cell_type": "markdown",
   "id": "623a39a3",
   "metadata": {},
   "source": [
    "# f-print"
   ]
  },
  {
   "cell_type": "code",
   "execution_count": 27,
   "id": "f7d115a7",
   "metadata": {},
   "outputs": [
    {
     "name": "stdout",
     "output_type": "stream",
     "text": [
      "my name is elmuki,iam in thanjai\n"
     ]
    }
   ],
   "source": [
    "print(f\"my name is {'elmuki'},iam in {'thanjai'}\")"
   ]
  },
  {
   "cell_type": "code",
   "execution_count": 39,
   "id": "f2957dd1",
   "metadata": {},
   "outputs": [
    {
     "name": "stdout",
     "output_type": "stream",
     "text": [
      "she sell sea shell in sea shore\n"
     ]
    }
   ],
   "source": [
    "print(f\"she sell {'sea'} shell in {'sea shore'}\")"
   ]
  },
  {
   "cell_type": "markdown",
   "id": "09e81f66",
   "metadata": {},
   "source": [
    "# user input"
   ]
  },
  {
   "cell_type": "code",
   "execution_count": 40,
   "id": "b8b89584",
   "metadata": {},
   "outputs": [
    {
     "name": "stdout",
     "output_type": "stream",
     "text": [
      "123456\n"
     ]
    },
    {
     "data": {
      "text/plain": [
       "'123456'"
      ]
     },
     "execution_count": 40,
     "metadata": {},
     "output_type": "execute_result"
    }
   ],
   "source": [
    "input()"
   ]
  },
  {
   "cell_type": "code",
   "execution_count": 41,
   "id": "ed090412",
   "metadata": {},
   "outputs": [
    {
     "name": "stdout",
     "output_type": "stream",
     "text": [
      "1234\n"
     ]
    }
   ],
   "source": [
    "variable=input()"
   ]
  },
  {
   "cell_type": "code",
   "execution_count": 51,
   "id": "7152e482",
   "metadata": {},
   "outputs": [
    {
     "name": "stdout",
     "output_type": "stream",
     "text": [
      "my nick name is muki\n"
     ]
    }
   ],
   "source": [
    "var=input(\"my nick name is \")"
   ]
  },
  {
   "cell_type": "code",
   "execution_count": 50,
   "id": "df6e958b",
   "metadata": {},
   "outputs": [
    {
     "data": {
      "text/plain": [
       "'muki'"
      ]
     },
     "execution_count": 50,
     "metadata": {},
     "output_type": "execute_result"
    }
   ],
   "source": [
    "var"
   ]
  },
  {
   "cell_type": "code",
   "execution_count": null,
   "id": "f26d4bd6",
   "metadata": {},
   "outputs": [],
   "source": []
  },
  {
   "cell_type": "code",
   "execution_count": null,
   "id": "e01fe1dc",
   "metadata": {},
   "outputs": [],
   "source": []
  },
  {
   "cell_type": "code",
   "execution_count": null,
   "id": "9acbdaf0",
   "metadata": {},
   "outputs": [],
   "source": []
  },
  {
   "cell_type": "code",
   "execution_count": null,
   "id": "9f0e2435",
   "metadata": {},
   "outputs": [],
   "source": []
  },
  {
   "cell_type": "code",
   "execution_count": null,
   "id": "18252c29",
   "metadata": {},
   "outputs": [],
   "source": []
  }
 ],
 "metadata": {
  "kernelspec": {
   "display_name": "Python 3 (ipykernel)",
   "language": "python",
   "name": "python3"
  },
  "language_info": {
   "codemirror_mode": {
    "name": "ipython",
    "version": 3
   },
   "file_extension": ".py",
   "mimetype": "text/x-python",
   "name": "python",
   "nbconvert_exporter": "python",
   "pygments_lexer": "ipython3",
   "version": "3.9.17"
  }
 },
 "nbformat": 4,
 "nbformat_minor": 5
}
