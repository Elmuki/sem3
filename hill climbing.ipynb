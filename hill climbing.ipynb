{
 "cells": [
  {
   "cell_type": "code",
   "execution_count": 1,
   "id": "afa9577c",
   "metadata": {},
   "outputs": [],
   "source": [
    "#TRAVELING SALES PERSON"
   ]
  },
  {
   "cell_type": "markdown",
   "id": "b3ba3906",
   "metadata": {},
   "source": [
    "# QUESTION \n",
    "      finding the best possible shortest route among these cities to travel\n",
    "           Chennai-Banglore =347\n",
    "           Chenai-Delhi=2196\n",
    "           Chennai-kolkata=1667\n",
    "           Bangalore-Delhi=2164\n",
    "           Bangalore-kolkata=1875\n",
    "           Delhi-kolkata=1559\n",
    "           All values in kms\n",
    "       "
   ]
  },
  {
   "cell_type": "markdown",
   "id": "f3ea8bed",
   "metadata": {},
   "source": [
    "# IMPORTING RANDOM VARIABLE"
   ]
  },
  {
   "cell_type": "code",
   "execution_count": 2,
   "id": "b4de9407",
   "metadata": {},
   "outputs": [],
   "source": [
    "import random"
   ]
  },
  {
   "cell_type": "markdown",
   "id": "7279511e",
   "metadata": {},
   "source": [
    "# TRAVELING SALES MAN CITY DISTANCES"
   ]
  },
  {
   "cell_type": "code",
   "execution_count": 3,
   "id": "c4b002df",
   "metadata": {},
   "outputs": [],
   "source": [
    "tsp = [[0,347,2196,1667],\n",
    "      [347,0,2164,1875],\n",
    "      [2196,2164,0,1559],\n",
    "      [1667,1875,1559,0]]"
   ]
  },
  {
   "cell_type": "code",
   "execution_count": 4,
   "id": "342a5edc",
   "metadata": {},
   "outputs": [
    {
     "data": {
      "text/plain": [
       "4"
      ]
     },
     "execution_count": 4,
     "metadata": {},
     "output_type": "execute_result"
    }
   ],
   "source": [
    "len(tsp)"
   ]
  },
  {
   "cell_type": "code",
   "execution_count": 5,
   "id": "f421c22a",
   "metadata": {},
   "outputs": [],
   "source": [
    "a=list(range(4))"
   ]
  },
  {
   "cell_type": "code",
   "execution_count": 6,
   "id": "3492e89a",
   "metadata": {},
   "outputs": [
    {
     "data": {
      "text/plain": [
       "[0, 1, 2, 3]"
      ]
     },
     "execution_count": 6,
     "metadata": {},
     "output_type": "execute_result"
    }
   ],
   "source": [
    "a"
   ]
  },
  {
   "cell_type": "markdown",
   "id": "78feb642",
   "metadata": {},
   "source": [
    "# random solution generator"
   ]
  },
  {
   "cell_type": "code",
   "execution_count": 7,
   "id": "6db8385c",
   "metadata": {},
   "outputs": [],
   "source": [
    "def randomsolution(tsp):\n",
    "    cities=list(range(len(tsp)))\n",
    "    solution=[]\n",
    "    for i in range (len(tsp)):\n",
    "        randomcity=cities[random.randint(0,len(cities)-1)]\n",
    "        solution.append(randomcity)\n",
    "        cities.remove(randomcity)\n",
    "    return solution  \n"
   ]
  },
  {
   "cell_type": "code",
   "execution_count": 8,
   "id": "0659460b",
   "metadata": {},
   "outputs": [
    {
     "name": "stdout",
     "output_type": "stream",
     "text": [
      "[3, 1, 2, 0]\n"
     ]
    }
   ],
   "source": [
    "solution=randomsolution(tsp)\n",
    "print(solution)"
   ]
  },
  {
   "cell_type": "markdown",
   "id": "1f91332c",
   "metadata": {},
   "source": [
    "# calculating length of route"
   ]
  },
  {
   "cell_type": "code",
   "execution_count": 9,
   "id": "2ad7d7aa",
   "metadata": {},
   "outputs": [],
   "source": [
    "def routelength(tsp,solution):\n",
    "    routelength=0\n",
    "    for i in range (len(solution)):\n",
    "        routelength+=tsp[solution[i-1]][solution[i]]\n",
    "    return routelength    \n",
    "        "
   ]
  },
  {
   "cell_type": "code",
   "execution_count": 10,
   "id": "bc64f291",
   "metadata": {},
   "outputs": [
    {
     "data": {
      "text/plain": [
       "7902"
      ]
     },
     "execution_count": 10,
     "metadata": {},
     "output_type": "execute_result"
    }
   ],
   "source": [
    "routelength(tsp,solution)"
   ]
  },
  {
   "cell_type": "markdown",
   "id": "5a5af538",
   "metadata": {},
   "source": [
    "# Generating neighbours"
   ]
  },
  {
   "cell_type": "code",
   "execution_count": 11,
   "id": "572044ac",
   "metadata": {},
   "outputs": [],
   "source": [
    "def getNeighbours(solution):\n",
    "    neighbours=[]\n",
    "    for i in range(len(solution)):\n",
    "        for j in range(i+1,len(solution)):\n",
    "            neighbour=solution.copy()\n",
    "            neighbour[i]=solution[j]\n",
    "            neighbour[j]=solution[i]\n",
    "            neighbours.append(neighbour)\n",
    "        return neighbours    "
   ]
  },
  {
   "cell_type": "code",
   "execution_count": 12,
   "id": "9d2f7f87",
   "metadata": {},
   "outputs": [
    {
     "name": "stdout",
     "output_type": "stream",
     "text": [
      "[[1, 3, 2, 0], [2, 1, 3, 0], [0, 1, 2, 3]]\n"
     ]
    }
   ],
   "source": [
    "neighbours=getNeighbours(solution)\n",
    "print(neighbours)"
   ]
  },
  {
   "cell_type": "markdown",
   "id": "e57555cb",
   "metadata": {},
   "source": [
    "# Finding Best Neighbours"
   ]
  },
  {
   "cell_type": "code",
   "execution_count": 26,
   "id": "a6f73c05",
   "metadata": {},
   "outputs": [],
   "source": [
    "def getBestNeighbour(tsp,neighbours):\n",
    "    bestRouteLength=routelength(tsp,neighbours[0])\n",
    "    bestNeighbour=neighbours[0]\n",
    "    for neighbour in neighbours:\n",
    "        currentRouteLength=routelength(tsp,neighbour)\n",
    "        if currentRouteLength<bestRouteLength:\n",
    "            bestRouteLength=currentRouteLength\n",
    "    return bestNeighbour,bestRouteLength"
   ]
  },
  {
   "cell_type": "code",
   "execution_count": 27,
   "id": "f2b6a0f4",
   "metadata": {},
   "outputs": [
    {
     "data": {
      "text/plain": [
       "([1, 3, 2, 0], 5737)"
      ]
     },
     "execution_count": 27,
     "metadata": {},
     "output_type": "execute_result"
    }
   ],
   "source": [
    "getBestNeighbour(tsp,neighbours)"
   ]
  },
  {
   "cell_type": "markdown",
   "id": "b7f84721",
   "metadata": {},
   "source": [
    "# Hill climbing Algorithm"
   ]
  },
  {
   "cell_type": "code",
   "execution_count": 29,
   "id": "2a87cd54",
   "metadata": {},
   "outputs": [],
   "source": [
    "def hillclimbing(tsp):\n",
    "    currentsolution=randomsolution(tsp)\n",
    "    currentroutelength=routelength(tsp,currentsolution)\n",
    "    neighbours=getneighbours(currentsolution)\n",
    "    bestneighbours,bestneighbourlength=getbestneighbour(tsp,neighbours) \n",
    "    \n",
    "    while bestneighbourroutelength<currentroutelength:\n",
    "        currentsolution = bestneighbour\n",
    "        currentroutelength = bestneighbourroutelength\n",
    "        neighbour = getneighbours(currentsolution)\n",
    "        bestneighbour,bestneighbourroutelength = getbestneighbour(tsp,neighbours)\n",
    "    return currentsolution,currentroutelength"
   ]
  },
  {
   "cell_type": "markdown",
   "id": "f3f93fce",
   "metadata": {},
   "source": [
    "# Hill climbing solution"
   ]
  },
  {
   "cell_type": "code",
   "execution_count": null,
   "id": "293d5a9e",
   "metadata": {},
   "outputs": [],
   "source": []
  }
 ],
 "metadata": {
  "kernelspec": {
   "display_name": "Python 3 (ipykernel)",
   "language": "python",
   "name": "python3"
  },
  "language_info": {
   "codemirror_mode": {
    "name": "ipython",
    "version": 3
   },
   "file_extension": ".py",
   "mimetype": "text/x-python",
   "name": "python",
   "nbconvert_exporter": "python",
   "pygments_lexer": "ipython3",
   "version": "3.11.5"
  }
 },
 "nbformat": 4,
 "nbformat_minor": 5
}
