{
 "cells": [
  {
   "cell_type": "raw",
   "id": "b59a7f67",
   "metadata": {},
   "source": [
    "In our problem we have our poor poisoner who is stuck in a prison .....as the story says..this prison is completely isolated from the rest of the world...and one cannot even see the sky....in such scenerio our prisoner have been in the prisoner fpr 2 years old now..the funny things is that there is an incharge who takes care of all priosoners...so the incharge wears ahat if its sunny and wears a rain coat if it is rainny....since the prisoner has no accessto open spaces..he can only deduce the whether by checking what the incharge came in everday...is it a raincoat or a hat  "
   ]
  },
  {
   "cell_type": "markdown",
   "id": "c5c825ca",
   "metadata": {},
   "source": [
    "# Import the libraries"
   ]
  },
  {
   "cell_type": "code",
   "execution_count": 5,
   "id": "26e84108",
   "metadata": {},
   "outputs": [],
   "source": [
    "from protopunica import*"
   ]
  },
  {
   "cell_type": "raw",
   "id": "2ca5641f",
   "metadata": {},
   "source": [
    "pomegranate is a python library that implements probabilistic models"
   ]
  },
  {
   "cell_type": "markdown",
   "id": "9d7f6460",
   "metadata": {},
   "source": [
    "# 2. Observation Model"
   ]
  },
  {
   "cell_type": "code",
   "execution_count": 6,
   "id": "afee04ba",
   "metadata": {},
   "outputs": [],
   "source": [
    "sunny=DiscreteDistribution({\"raincoat\":0.1,\"hat\":0.9})\n",
    "rainy=DiscreteDistribution({\"raincoat\":0.7,\"hat\":0.3})"
   ]
  },
  {
   "cell_type": "code",
   "execution_count": 7,
   "id": "479ab761",
   "metadata": {},
   "outputs": [],
   "source": [
    "states=[sunny,rainy]"
   ]
  },
  {
   "cell_type": "code",
   "execution_count": 8,
   "id": "5c31cbc5",
   "metadata": {},
   "outputs": [],
   "source": [
    "transition_model=numpy.array([[0.7,0.3],[0.4,0.6]])"
   ]
  },
  {
   "cell_type": "code",
   "execution_count": 9,
   "id": "b0047a5f",
   "metadata": {},
   "outputs": [],
   "source": [
    "Initial_state=numpy.array([0.3,0.7])"
   ]
  },
  {
   "cell_type": "code",
   "execution_count": 10,
   "id": "eeb46fb3",
   "metadata": {},
   "outputs": [],
   "source": [
    "model=HiddenMarkovModel.from_matrix(\n",
    "transition_model,states,Initial_state,\n",
    "state_names=[\"sunny\",\"rainy\"])"
   ]
  },
  {
   "cell_type": "code",
   "execution_count": 11,
   "id": "aab9adf3",
   "metadata": {},
   "outputs": [],
   "source": [
    "model.bake()"
   ]
  },
  {
   "cell_type": "code",
   "execution_count": 12,
   "id": "c9aa24b1",
   "metadata": {},
   "outputs": [],
   "source": [
    "observations=[\n",
    "    \"hat\",\n",
    "    \"hat\",\n",
    "    \"raincoat\",\n",
    "    \"raincoat\",\n",
    "    \"hat\",\n",
    "    \"hat\",\n",
    "    \"raincoat\",\n",
    "    \"hat\",\n",
    "    \"hat\"\n",
    "]    "
   ]
  },
  {
   "cell_type": "code",
   "execution_count": 13,
   "id": "55593a6c",
   "metadata": {},
   "outputs": [],
   "source": [
    "predictions=model.predict(observations)"
   ]
  },
  {
   "cell_type": "code",
   "execution_count": 14,
   "id": "6f9468ce",
   "metadata": {},
   "outputs": [
    {
     "data": {
      "text/plain": [
       "[1, 1, 0, 0, 1, 1, 0, 1, 1]"
      ]
     },
     "execution_count": 14,
     "metadata": {},
     "output_type": "execute_result"
    }
   ],
   "source": [
    "predictions"
   ]
  },
  {
   "cell_type": "code",
   "execution_count": 15,
   "id": "942a2f59",
   "metadata": {},
   "outputs": [
    {
     "data": {
      "text/plain": [
       "{\n",
       "    \"class\" : \"HiddenMarkovModel\",\n",
       "    \"name\" : \"None\",\n",
       "    \"start\" : {\n",
       "        \"class\" : \"State\",\n",
       "        \"distribution\" : null,\n",
       "        \"name\" : \"None-start\",\n",
       "        \"weight\" : 1.0\n",
       "    },\n",
       "    \"end\" : {\n",
       "        \"class\" : \"State\",\n",
       "        \"distribution\" : null,\n",
       "        \"name\" : \"None-end\",\n",
       "        \"weight\" : 1.0\n",
       "    },\n",
       "    \"states\" : [\n",
       "        {\n",
       "            \"class\" : \"State\",\n",
       "            \"distribution\" : {\n",
       "                \"class\" : \"Distribution\",\n",
       "                \"dtype\" : \"str\",\n",
       "                \"name\" : \"DiscreteDistribution\",\n",
       "                \"parameters\" : [\n",
       "                    {\n",
       "                        \"raincoat\" : 0.7,\n",
       "                        \"hat\" : 0.3\n",
       "                    }\n",
       "                ],\n",
       "                \"frozen\" : false\n",
       "            },\n",
       "            \"name\" : \"rainy\",\n",
       "            \"weight\" : 1.0\n",
       "        },\n",
       "        {\n",
       "            \"class\" : \"State\",\n",
       "            \"distribution\" : {\n",
       "                \"class\" : \"Distribution\",\n",
       "                \"dtype\" : \"str\",\n",
       "                \"name\" : \"DiscreteDistribution\",\n",
       "                \"parameters\" : [\n",
       "                    {\n",
       "                        \"raincoat\" : 0.1,\n",
       "                        \"hat\" : 0.9\n",
       "                    }\n",
       "                ],\n",
       "                \"frozen\" : false\n",
       "            },\n",
       "            \"name\" : \"sunny\",\n",
       "            \"weight\" : 1.0\n",
       "        },\n",
       "        {\n",
       "            \"class\" : \"State\",\n",
       "            \"distribution\" : null,\n",
       "            \"name\" : \"None-start\",\n",
       "            \"weight\" : 1.0\n",
       "        },\n",
       "        {\n",
       "            \"class\" : \"State\",\n",
       "            \"distribution\" : null,\n",
       "            \"name\" : \"None-end\",\n",
       "            \"weight\" : 1.0\n",
       "        }\n",
       "    ],\n",
       "    \"end_index\" : 3,\n",
       "    \"start_index\" : 2,\n",
       "    \"silent_index\" : 2,\n",
       "    \"edges\" : [\n",
       "        [\n",
       "            2,\n",
       "            1,\n",
       "            0.3,\n",
       "            0.3,\n",
       "            null\n",
       "        ],\n",
       "        [\n",
       "            2,\n",
       "            0,\n",
       "            0.7,\n",
       "            0.7,\n",
       "            null\n",
       "        ],\n",
       "        [\n",
       "            1,\n",
       "            1,\n",
       "            0.7,\n",
       "            0.7,\n",
       "            null\n",
       "        ],\n",
       "        [\n",
       "            1,\n",
       "            0,\n",
       "            0.3,\n",
       "            0.3,\n",
       "            null\n",
       "        ],\n",
       "        [\n",
       "            0,\n",
       "            1,\n",
       "            0.4,\n",
       "            0.4,\n",
       "            null\n",
       "        ],\n",
       "        [\n",
       "            0,\n",
       "            0,\n",
       "            0.6,\n",
       "            0.6,\n",
       "            null\n",
       "        ]\n",
       "    ],\n",
       "    \"distribution ties\" : []\n",
       "}"
      ]
     },
     "execution_count": 15,
     "metadata": {},
     "output_type": "execute_result"
    }
   ],
   "source": [
    "model"
   ]
  },
  {
   "cell_type": "code",
   "execution_count": 16,
   "id": "bc0e5994",
   "metadata": {},
   "outputs": [
    {
     "name": "stdout",
     "output_type": "stream",
     "text": [
      "sunny\n",
      "sunny\n",
      "rainy\n",
      "rainy\n",
      "sunny\n",
      "sunny\n",
      "rainy\n",
      "sunny\n",
      "sunny\n"
     ]
    }
   ],
   "source": [
    "for prediction in predictions:\n",
    "    print(model.states[prediction].name)"
   ]
  },
  {
   "cell_type": "code",
   "execution_count": null,
   "id": "3c6fbb96",
   "metadata": {},
   "outputs": [],
   "source": [
    "pip install pandas"
   ]
  },
  {
   "cell_type": "code",
   "execution_count": 17,
   "id": "34b3425a",
   "metadata": {},
   "outputs": [],
   "source": [
    "import pandas as pd"
   ]
  },
  {
   "cell_type": "code",
   "execution_count": 18,
   "id": "b72f3610",
   "metadata": {},
   "outputs": [],
   "source": [
    "predicted_probabilities=model.predict_proba(observations)"
   ]
  },
  {
   "cell_type": "code",
   "execution_count": 22,
   "id": "86358bc1",
   "metadata": {},
   "outputs": [],
   "source": [
    "Most_likely_weather=pd.DataFrame(predicted_probabilities,columns=[\"Rainy\",\"sunny\"])"
   ]
  },
  {
   "cell_type": "code",
   "execution_count": 23,
   "id": "d608a65c",
   "metadata": {},
   "outputs": [
    {
     "name": "stdout",
     "output_type": "stream",
     "text": [
      "      Rainy     sunny\n",
      "0  0.399892  0.600108\n",
      "1  0.306306  0.693694\n",
      "2  0.859424  0.140576\n",
      "3  0.855572  0.144428\n",
      "4  0.266125  0.733875\n",
      "5  0.248499  0.751501\n",
      "6  0.730427  0.269573\n",
      "7  0.225295  0.774705\n",
      "8  0.171936  0.828064\n"
     ]
    }
   ],
   "source": [
    "print(Most_likely_weather)"
   ]
  },
  {
   "cell_type": "code",
   "execution_count": null,
   "id": "9f1afd10",
   "metadata": {},
   "outputs": [],
   "source": []
  }
 ],
 "metadata": {
  "kernelspec": {
   "display_name": "Python 3 (ipykernel)",
   "language": "python",
   "name": "python3"
  },
  "language_info": {
   "codemirror_mode": {
    "name": "ipython",
    "version": 3
   },
   "file_extension": ".py",
   "mimetype": "text/x-python",
   "name": "python",
   "nbconvert_exporter": "python",
   "pygments_lexer": "ipython3",
   "version": "3.11.5"
  }
 },
 "nbformat": 4,
 "nbformat_minor": 5
}
